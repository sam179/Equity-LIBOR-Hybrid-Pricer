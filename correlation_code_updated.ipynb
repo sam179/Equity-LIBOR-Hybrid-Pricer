{
 "cells": [
  {
   "cell_type": "code",
   "execution_count": 2,
   "id": "e4a2ca50",
   "metadata": {},
   "outputs": [],
   "source": [
    "# dependencies\n",
    "import matplotlib.pyplot as plt\n",
    "import yfinance as yf\n",
    "import numpy as np\n",
    "import pandas as pd\n",
    "import qrpm_funcs as qf\n",
    "from mpl_toolkits import mplot3d\n",
    "from datetime import datetime\n",
    "from itertools import chain\n",
    "from matplotlib import cm\n",
    "import scipy.stats as scistat\n",
    "import scipy.optimize as sciopt"
   ]
  },
  {
   "cell_type": "code",
   "execution_count": 14,
   "id": "36f8583a",
   "metadata": {},
   "outputs": [],
   "source": [
    "lastday=qf.LastYearEnd()\n",
    "one_year_start_date = '2020-12-12'\n",
    "start_date = '2006-12-31'"
   ]
  },
  {
   "cell_type": "code",
   "execution_count": 15,
   "id": "6f36b817",
   "metadata": {},
   "outputs": [],
   "source": [
    "def get_nikkei_historical(start_date):\n",
    "    \n",
    "    lastday=qf.LastYearEnd()\n",
    "    n225 = yf.Ticker('^N225').history(period='1d', start = start_date, end = lastday)\n",
    "    n225_data = n225[\"Close\"]\n",
    "    n225_data = np.array(n225_data)\n",
    "\n",
    "    previous = n225_data[0]\n",
    "    n225_log_returns = []\n",
    "    \n",
    "    for i in range(1, len(n225_data)):\n",
    "        n225_log_returns.append(np.log(n225_data[i]/previous))\n",
    "        previous = n225_data[i]\n",
    "        \n",
    "    return n225_data"
   ]
  },
  {
   "cell_type": "code",
   "execution_count": 5,
   "id": "7f232f29",
   "metadata": {},
   "outputs": [],
   "source": [
    "def get_fx_historical():\n",
    "\n",
    "    lastday=qf.LastYearEnd()\n",
    "    #Swiss franc, pound sterling, Japanese Yen\n",
    "    seriesnames=['DEXJPUS']\n",
    "    cdates,ratematrix=qf.GetFREDMatrix(seriesnames,startdate = '2007-05-12', enddate=lastday)\n",
    "    multipliers=[1]\n",
    "\n",
    "    lgdates,difflgs=qf.levels_to_log_returns(cdates,ratematrix,multipliers)\n",
    "\n",
    "    #Mean vector and covariance matrix are inputs to efficient frontier calculations\n",
    "    d=np.array(difflgs)\n",
    "    #*************************End code from Chapter 4\n",
    "    #vals = [i for i in difflgs]\n",
    "    \n",
    "    return ratematrix\n",
    "\n",
    "fx_ret = get_fx_historical()"
   ]
  },
  {
   "cell_type": "code",
   "execution_count": 6,
   "id": "753400c7",
   "metadata": {},
   "outputs": [],
   "source": [
    "def get_equity_fx_correlation():\n",
    "    \n",
    "    fx_ret = np.array(get_fx_historical())\n",
    "    fx_historical = fx_ret.reshape((len(fx_ret),))\n",
    "    fx_historical = fx_historical[~np.isnan(fx_historical)]\n",
    "    \n",
    "    nikkei_historical = np.array(get_nikkei_historical(start_date))\n",
    "    \n",
    "    fx_historical = fx_historical[:nikkei_historical.shape[0]]\n",
    "    \n",
    "    # expanding the 0th dimension\n",
    "    nikkei_historical = np.expand_dims(nikkei_historical,axis=0)\n",
    "    fx_historical = np.expand_dims(fx_historical,axis=0)\n",
    "    \n",
    "    return np.corrcoef(fx_historical, nikkei_historical)[0][1]"
   ]
  },
  {
   "cell_type": "code",
   "execution_count": 7,
   "id": "458da18a",
   "metadata": {
    "scrolled": true
   },
   "outputs": [
    {
     "data": {
      "text/plain": [
       "0.7312246022145162"
      ]
     },
     "execution_count": 7,
     "metadata": {},
     "output_type": "execute_result"
    }
   ],
   "source": [
    "# This is not working\n",
    "\n",
    "get_equity_fx_correlation()"
   ]
  },
  {
   "cell_type": "code",
   "execution_count": 8,
   "id": "e88e9cdd",
   "metadata": {},
   "outputs": [
    {
     "name": "stdout",
     "output_type": "stream",
     "text": [
      "1220\n"
     ]
    }
   ],
   "source": [
    "lastday=qf.LastYearEnd()\n",
    "n225 = yf.Ticker('^N225').history(period='1d', start='2016-12-31', end=lastday)\n",
    "n225_data = n225[\"Close\"]\n",
    "n225_data = np.array(n225_data)\n",
    "\n",
    "previous = n225_data[0]\n",
    "n225_log_returns = []\n",
    "\n",
    "for i in range(1, len(n225_data)):\n",
    "    n225_log_returns.append(np.log(n225_data[i]/previous))\n",
    "    previous = n225_data[i]\n",
    "    \n",
    "print(len(n225_log_returns))"
   ]
  },
  {
   "cell_type": "code",
   "execution_count": 9,
   "id": "8985742f",
   "metadata": {},
   "outputs": [
    {
     "name": "stdout",
     "output_type": "stream",
     "text": [
      "[*********************100%***********************]  1 of 1 completed\n"
     ]
    }
   ],
   "source": [
    "def get_spx_historical():\n",
    "    \n",
    "    #spx = yf.Ticker('GSPC').history(period='1d', start='2016-12-31', end='2022-12-12')\n",
    "    spx = yf.download('^GSPC', period='1d', start='2016-12-31', end=lastday)\n",
    "    return np.array(spx['Adj Close'])\n",
    "\n",
    "spx = get_spx_historical()"
   ]
  },
  {
   "cell_type": "code",
   "execution_count": 10,
   "id": "1718d08c",
   "metadata": {},
   "outputs": [],
   "source": [
    "def get_equity_fx_correlation():\n",
    "    \n",
    "    fx_ret = get_fx_historical()\n",
    "    fx_historical = fx_ret.reshape((1220,))\n",
    "    nikkei_historical = np.array(get_nikkei_historical())\n",
    "    \n",
    "    return np.corrcoef(fx_historical, nikkei_historical)"
   ]
  },
  {
   "cell_type": "code",
   "execution_count": 11,
   "id": "5180dfc3",
   "metadata": {},
   "outputs": [],
   "source": [
    "def get_LIBOR_3m():\n",
    "    \n",
    "    libor = pd.read_csv('LIBOR3m.csv')\n",
    "    libor = np.array(libor['Close'])\n",
    "    for i in range(len(libor)):\n",
    "        libor[i] = libor[i].replace('%', '')\n",
    "        libor[i] = float(libor[i])\n",
    "    libor = libor.astype(float)\n",
    "    libor_log_returns = []\n",
    "    previous = libor[0]\n",
    "    \n",
    "    for i in range(1, len(libor)):\n",
    "        libor_log_returns.append(np.log(libor[i]/previous))\n",
    "        previous = libor[i]\n",
    "        \n",
    "    return libor_log_returns"
   ]
  },
  {
   "cell_type": "code",
   "execution_count": 16,
   "id": "32efaba3",
   "metadata": {},
   "outputs": [],
   "source": [
    "def get_LIBOR_N225():\n",
    "    \n",
    "    L3m_ret = get_LIBOR_3m()\n",
    "    #fx_historical = fx_ret.reshape((len(fx_ret),))\n",
    "    nikkei_historical = np.array(get_nikkei_historical(one_year_start_date))\n",
    "    \n",
    "    return np.corrcoef(L3m_ret, nikkei_historical)[0][1]"
   ]
  },
  {
   "cell_type": "code",
   "execution_count": 17,
   "id": "98f1a3cf",
   "metadata": {},
   "outputs": [
    {
     "data": {
      "text/plain": [
       "-0.0462603738665728"
      ]
     },
     "execution_count": 17,
     "metadata": {},
     "output_type": "execute_result"
    }
   ],
   "source": [
    "get_LIBOR_N225()"
   ]
  },
  {
   "cell_type": "code",
   "execution_count": null,
   "id": "47e9907b",
   "metadata": {},
   "outputs": [],
   "source": []
  }
 ],
 "metadata": {
  "kernelspec": {
   "display_name": "Python 3",
   "language": "python",
   "name": "python3"
  },
  "language_info": {
   "codemirror_mode": {
    "name": "ipython",
    "version": 3
   },
   "file_extension": ".py",
   "mimetype": "text/x-python",
   "name": "python",
   "nbconvert_exporter": "python",
   "pygments_lexer": "ipython3",
   "version": "3.8.2"
  }
 },
 "nbformat": 4,
 "nbformat_minor": 5
}
